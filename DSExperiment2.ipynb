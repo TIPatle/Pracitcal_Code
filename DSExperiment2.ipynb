{
 "cells": [
  {
   "cell_type": "code",
   "execution_count": 1,
   "id": "906b1bda",
   "metadata": {},
   "outputs": [],
   "source": [
    "import numpy as np\n",
    "import pandas as pd"
   ]
  },
  {
   "cell_type": "code",
   "execution_count": 121,
   "id": "dba13824",
   "metadata": {},
   "outputs": [],
   "source": [
    "### Mean"
   ]
  },
  {
   "cell_type": "code",
   "execution_count": 106,
   "id": "be99d551",
   "metadata": {},
   "outputs": [],
   "source": [
    "data = [[1, 'Amol', 60, 70, 80, 90, np.nan],\n",
    "[2, 'Dipak', 70, 80, 90, np.nan, 60],\n",
    "[3, 'Shreya', 80, 90, np.nan, 60, 70],\n",
    "[4, 'Krisha', 90, np.nan, 60, 70, 80],\n",
    "[5, 'Pooja', np.nan, 60, 70, 80, 90]]"
   ]
  },
  {
   "cell_type": "code",
   "execution_count": 110,
   "id": "7a787fbf",
   "metadata": {},
   "outputs": [],
   "source": [
    "df = pd.DataFrame(data, columns=['Roll_No', 'Name', 'Maths_marks', 'English_marks', 'Science_marks',\n",
    "       'History_marks', 'Geography_marks'])"
   ]
  },
  {
   "cell_type": "code",
   "execution_count": 111,
   "id": "5f2c7a49",
   "metadata": {},
   "outputs": [
    {
     "data": {
      "text/html": [
       "<div>\n",
       "<style scoped>\n",
       "    .dataframe tbody tr th:only-of-type {\n",
       "        vertical-align: middle;\n",
       "    }\n",
       "\n",
       "    .dataframe tbody tr th {\n",
       "        vertical-align: top;\n",
       "    }\n",
       "\n",
       "    .dataframe thead th {\n",
       "        text-align: right;\n",
       "    }\n",
       "</style>\n",
       "<table border=\"1\" class=\"dataframe\">\n",
       "  <thead>\n",
       "    <tr style=\"text-align: right;\">\n",
       "      <th></th>\n",
       "      <th>Roll_No</th>\n",
       "      <th>Name</th>\n",
       "      <th>Maths_marks</th>\n",
       "      <th>English_marks</th>\n",
       "      <th>Science_marks</th>\n",
       "      <th>History_marks</th>\n",
       "      <th>Geography_marks</th>\n",
       "    </tr>\n",
       "  </thead>\n",
       "  <tbody>\n",
       "    <tr>\n",
       "      <th>0</th>\n",
       "      <td>1</td>\n",
       "      <td>Amol</td>\n",
       "      <td>60.0</td>\n",
       "      <td>70.0</td>\n",
       "      <td>80.0</td>\n",
       "      <td>90.0</td>\n",
       "      <td>NaN</td>\n",
       "    </tr>\n",
       "    <tr>\n",
       "      <th>1</th>\n",
       "      <td>2</td>\n",
       "      <td>Dipak</td>\n",
       "      <td>70.0</td>\n",
       "      <td>80.0</td>\n",
       "      <td>90.0</td>\n",
       "      <td>NaN</td>\n",
       "      <td>60.0</td>\n",
       "    </tr>\n",
       "    <tr>\n",
       "      <th>2</th>\n",
       "      <td>3</td>\n",
       "      <td>Shreya</td>\n",
       "      <td>80.0</td>\n",
       "      <td>90.0</td>\n",
       "      <td>NaN</td>\n",
       "      <td>60.0</td>\n",
       "      <td>70.0</td>\n",
       "    </tr>\n",
       "    <tr>\n",
       "      <th>3</th>\n",
       "      <td>4</td>\n",
       "      <td>Krisha</td>\n",
       "      <td>90.0</td>\n",
       "      <td>NaN</td>\n",
       "      <td>60.0</td>\n",
       "      <td>70.0</td>\n",
       "      <td>80.0</td>\n",
       "    </tr>\n",
       "    <tr>\n",
       "      <th>4</th>\n",
       "      <td>5</td>\n",
       "      <td>Pooja</td>\n",
       "      <td>NaN</td>\n",
       "      <td>60.0</td>\n",
       "      <td>70.0</td>\n",
       "      <td>80.0</td>\n",
       "      <td>90.0</td>\n",
       "    </tr>\n",
       "  </tbody>\n",
       "</table>\n",
       "</div>"
      ],
      "text/plain": [
       "   Roll_No    Name  Maths_marks  English_marks  Science_marks  History_marks   \n",
       "0        1    Amol         60.0           70.0           80.0           90.0  \\\n",
       "1        2   Dipak         70.0           80.0           90.0            NaN   \n",
       "2        3  Shreya         80.0           90.0            NaN           60.0   \n",
       "3        4  Krisha         90.0            NaN           60.0           70.0   \n",
       "4        5   Pooja          NaN           60.0           70.0           80.0   \n",
       "\n",
       "   Geography_marks  \n",
       "0              NaN  \n",
       "1             60.0  \n",
       "2             70.0  \n",
       "3             80.0  \n",
       "4             90.0  "
      ]
     },
     "execution_count": 111,
     "metadata": {},
     "output_type": "execute_result"
    }
   ],
   "source": [
    "df.head()"
   ]
  },
  {
   "cell_type": "code",
   "execution_count": 112,
   "id": "f9cfca9c",
   "metadata": {
    "scrolled": true
   },
   "outputs": [
    {
     "name": "stdout",
     "output_type": "stream",
     "text": [
      "<class 'pandas.core.frame.DataFrame'>\n",
      "RangeIndex: 5 entries, 0 to 4\n",
      "Data columns (total 7 columns):\n",
      " #   Column           Non-Null Count  Dtype  \n",
      "---  ------           --------------  -----  \n",
      " 0   Roll_No          5 non-null      int64  \n",
      " 1   Name             5 non-null      object \n",
      " 2   Maths_marks      4 non-null      float64\n",
      " 3   English_marks    4 non-null      float64\n",
      " 4   Science_marks    4 non-null      float64\n",
      " 5   History_marks    4 non-null      float64\n",
      " 6   Geography_marks  4 non-null      float64\n",
      "dtypes: float64(5), int64(1), object(1)\n",
      "memory usage: 408.0+ bytes\n"
     ]
    }
   ],
   "source": [
    "df.info()"
   ]
  },
  {
   "cell_type": "code",
   "execution_count": 114,
   "id": "bd1c5990",
   "metadata": {},
   "outputs": [
    {
     "data": {
      "text/html": [
       "<div>\n",
       "<style scoped>\n",
       "    .dataframe tbody tr th:only-of-type {\n",
       "        vertical-align: middle;\n",
       "    }\n",
       "\n",
       "    .dataframe tbody tr th {\n",
       "        vertical-align: top;\n",
       "    }\n",
       "\n",
       "    .dataframe thead th {\n",
       "        text-align: right;\n",
       "    }\n",
       "</style>\n",
       "<table border=\"1\" class=\"dataframe\">\n",
       "  <thead>\n",
       "    <tr style=\"text-align: right;\">\n",
       "      <th></th>\n",
       "      <th>Roll_No</th>\n",
       "      <th>Maths_marks</th>\n",
       "      <th>English_marks</th>\n",
       "      <th>Science_marks</th>\n",
       "      <th>History_marks</th>\n",
       "      <th>Geography_marks</th>\n",
       "    </tr>\n",
       "  </thead>\n",
       "  <tbody>\n",
       "    <tr>\n",
       "      <th>count</th>\n",
       "      <td>5.000000</td>\n",
       "      <td>4.000000</td>\n",
       "      <td>4.000000</td>\n",
       "      <td>4.000000</td>\n",
       "      <td>4.000000</td>\n",
       "      <td>4.000000</td>\n",
       "    </tr>\n",
       "    <tr>\n",
       "      <th>mean</th>\n",
       "      <td>3.000000</td>\n",
       "      <td>75.000000</td>\n",
       "      <td>75.000000</td>\n",
       "      <td>75.000000</td>\n",
       "      <td>75.000000</td>\n",
       "      <td>75.000000</td>\n",
       "    </tr>\n",
       "    <tr>\n",
       "      <th>std</th>\n",
       "      <td>1.581139</td>\n",
       "      <td>12.909944</td>\n",
       "      <td>12.909944</td>\n",
       "      <td>12.909944</td>\n",
       "      <td>12.909944</td>\n",
       "      <td>12.909944</td>\n",
       "    </tr>\n",
       "    <tr>\n",
       "      <th>min</th>\n",
       "      <td>1.000000</td>\n",
       "      <td>60.000000</td>\n",
       "      <td>60.000000</td>\n",
       "      <td>60.000000</td>\n",
       "      <td>60.000000</td>\n",
       "      <td>60.000000</td>\n",
       "    </tr>\n",
       "    <tr>\n",
       "      <th>25%</th>\n",
       "      <td>2.000000</td>\n",
       "      <td>67.500000</td>\n",
       "      <td>67.500000</td>\n",
       "      <td>67.500000</td>\n",
       "      <td>67.500000</td>\n",
       "      <td>67.500000</td>\n",
       "    </tr>\n",
       "    <tr>\n",
       "      <th>50%</th>\n",
       "      <td>3.000000</td>\n",
       "      <td>75.000000</td>\n",
       "      <td>75.000000</td>\n",
       "      <td>75.000000</td>\n",
       "      <td>75.000000</td>\n",
       "      <td>75.000000</td>\n",
       "    </tr>\n",
       "    <tr>\n",
       "      <th>75%</th>\n",
       "      <td>4.000000</td>\n",
       "      <td>82.500000</td>\n",
       "      <td>82.500000</td>\n",
       "      <td>82.500000</td>\n",
       "      <td>82.500000</td>\n",
       "      <td>82.500000</td>\n",
       "    </tr>\n",
       "    <tr>\n",
       "      <th>max</th>\n",
       "      <td>5.000000</td>\n",
       "      <td>90.000000</td>\n",
       "      <td>90.000000</td>\n",
       "      <td>90.000000</td>\n",
       "      <td>90.000000</td>\n",
       "      <td>90.000000</td>\n",
       "    </tr>\n",
       "  </tbody>\n",
       "</table>\n",
       "</div>"
      ],
      "text/plain": [
       "        Roll_No  Maths_marks  English_marks  Science_marks  History_marks   \n",
       "count  5.000000     4.000000       4.000000       4.000000       4.000000  \\\n",
       "mean   3.000000    75.000000      75.000000      75.000000      75.000000   \n",
       "std    1.581139    12.909944      12.909944      12.909944      12.909944   \n",
       "min    1.000000    60.000000      60.000000      60.000000      60.000000   \n",
       "25%    2.000000    67.500000      67.500000      67.500000      67.500000   \n",
       "50%    3.000000    75.000000      75.000000      75.000000      75.000000   \n",
       "75%    4.000000    82.500000      82.500000      82.500000      82.500000   \n",
       "max    5.000000    90.000000      90.000000      90.000000      90.000000   \n",
       "\n",
       "       Geography_marks  \n",
       "count         4.000000  \n",
       "mean         75.000000  \n",
       "std          12.909944  \n",
       "min          60.000000  \n",
       "25%          67.500000  \n",
       "50%          75.000000  \n",
       "75%          82.500000  \n",
       "max          90.000000  "
      ]
     },
     "execution_count": 114,
     "metadata": {},
     "output_type": "execute_result"
    }
   ],
   "source": [
    "df.describe()"
   ]
  },
  {
   "cell_type": "code",
   "execution_count": 115,
   "id": "71a7c153",
   "metadata": {},
   "outputs": [
    {
     "data": {
      "text/plain": [
       "Roll_No            0\n",
       "Name               0\n",
       "Maths_marks        1\n",
       "English_marks      1\n",
       "Science_marks      1\n",
       "History_marks      1\n",
       "Geography_marks    1\n",
       "dtype: int64"
      ]
     },
     "execution_count": 115,
     "metadata": {},
     "output_type": "execute_result"
    }
   ],
   "source": [
    "df.isnull().sum()"
   ]
  },
  {
   "cell_type": "code",
   "execution_count": 117,
   "id": "b18fda23",
   "metadata": {},
   "outputs": [],
   "source": [
    "def fill(data, col):\n",
    "    for i in col:\n",
    "        mean = data[i].mean()\n",
    "        data[i] = data[i].fillna(mean)\n",
    "    return data"
   ]
  },
  {
   "cell_type": "code",
   "execution_count": 118,
   "id": "947680c8",
   "metadata": {},
   "outputs": [],
   "source": [
    "columns = ['Maths_marks', 'English_marks', 'Science_marks', 'History_marks', 'Geography_marks']\n",
    "df = fill(df, columns)"
   ]
  },
  {
   "cell_type": "code",
   "execution_count": 119,
   "id": "9ac5b1eb",
   "metadata": {},
   "outputs": [
    {
     "name": "stdout",
     "output_type": "stream",
     "text": [
      "<class 'pandas.core.frame.DataFrame'>\n",
      "RangeIndex: 5 entries, 0 to 4\n",
      "Data columns (total 7 columns):\n",
      " #   Column           Non-Null Count  Dtype  \n",
      "---  ------           --------------  -----  \n",
      " 0   Roll_No          5 non-null      int64  \n",
      " 1   Name             5 non-null      object \n",
      " 2   Maths_marks      5 non-null      float64\n",
      " 3   English_marks    5 non-null      float64\n",
      " 4   Science_marks    5 non-null      float64\n",
      " 5   History_marks    5 non-null      float64\n",
      " 6   Geography_marks  5 non-null      float64\n",
      "dtypes: float64(5), int64(1), object(1)\n",
      "memory usage: 408.0+ bytes\n"
     ]
    }
   ],
   "source": [
    "df.info()"
   ]
  },
  {
   "cell_type": "code",
   "execution_count": 123,
   "id": "8ebe1233",
   "metadata": {},
   "outputs": [],
   "source": [
    "### Drop all null values"
   ]
  },
  {
   "cell_type": "code",
   "execution_count": 133,
   "id": "20f78716",
   "metadata": {},
   "outputs": [],
   "source": [
    "df1 = pd.DataFrame(data, columns = ['Roll_No', 'Name', 'Maths_marks', 'English_marks', 'Science_marks',\n",
    "       'History_marks', 'Geography_marks'])"
   ]
  },
  {
   "cell_type": "code",
   "execution_count": 136,
   "id": "9fb4ecfc",
   "metadata": {},
   "outputs": [
    {
     "data": {
      "text/html": [
       "<div>\n",
       "<style scoped>\n",
       "    .dataframe tbody tr th:only-of-type {\n",
       "        vertical-align: middle;\n",
       "    }\n",
       "\n",
       "    .dataframe tbody tr th {\n",
       "        vertical-align: top;\n",
       "    }\n",
       "\n",
       "    .dataframe thead th {\n",
       "        text-align: right;\n",
       "    }\n",
       "</style>\n",
       "<table border=\"1\" class=\"dataframe\">\n",
       "  <thead>\n",
       "    <tr style=\"text-align: right;\">\n",
       "      <th></th>\n",
       "      <th>Roll_No</th>\n",
       "      <th>Name</th>\n",
       "      <th>Maths_marks</th>\n",
       "      <th>English_marks</th>\n",
       "      <th>Science_marks</th>\n",
       "      <th>History_marks</th>\n",
       "      <th>Geography_marks</th>\n",
       "    </tr>\n",
       "  </thead>\n",
       "  <tbody>\n",
       "  </tbody>\n",
       "</table>\n",
       "</div>"
      ],
      "text/plain": [
       "Empty DataFrame\n",
       "Columns: [Roll_No, Name, Maths_marks, English_marks, Science_marks, History_marks, Geography_marks]\n",
       "Index: []"
      ]
     },
     "execution_count": 136,
     "metadata": {},
     "output_type": "execute_result"
    }
   ],
   "source": [
    "df1.dropna()"
   ]
  },
  {
   "cell_type": "code",
   "execution_count": 137,
   "id": "e3a11a75",
   "metadata": {},
   "outputs": [],
   "source": [
    "### Fill with Median"
   ]
  },
  {
   "cell_type": "code",
   "execution_count": 138,
   "id": "379e923d",
   "metadata": {},
   "outputs": [],
   "source": [
    "df2 = pd.DataFrame(data, columns=['Roll_No', 'Name', 'Maths_marks', 'English_marks', 'Science_marks',\n",
    "       'History_marks', 'Geography_marks'])"
   ]
  },
  {
   "cell_type": "code",
   "execution_count": 139,
   "id": "937db94d",
   "metadata": {},
   "outputs": [
    {
     "data": {
      "text/html": [
       "<div>\n",
       "<style scoped>\n",
       "    .dataframe tbody tr th:only-of-type {\n",
       "        vertical-align: middle;\n",
       "    }\n",
       "\n",
       "    .dataframe tbody tr th {\n",
       "        vertical-align: top;\n",
       "    }\n",
       "\n",
       "    .dataframe thead th {\n",
       "        text-align: right;\n",
       "    }\n",
       "</style>\n",
       "<table border=\"1\" class=\"dataframe\">\n",
       "  <thead>\n",
       "    <tr style=\"text-align: right;\">\n",
       "      <th></th>\n",
       "      <th>Roll_No</th>\n",
       "      <th>Name</th>\n",
       "      <th>Maths_marks</th>\n",
       "      <th>English_marks</th>\n",
       "      <th>Science_marks</th>\n",
       "      <th>History_marks</th>\n",
       "      <th>Geography_marks</th>\n",
       "    </tr>\n",
       "  </thead>\n",
       "  <tbody>\n",
       "    <tr>\n",
       "      <th>0</th>\n",
       "      <td>1</td>\n",
       "      <td>Amol</td>\n",
       "      <td>60.0</td>\n",
       "      <td>70.0</td>\n",
       "      <td>80.0</td>\n",
       "      <td>90.0</td>\n",
       "      <td>NaN</td>\n",
       "    </tr>\n",
       "    <tr>\n",
       "      <th>1</th>\n",
       "      <td>2</td>\n",
       "      <td>Dipak</td>\n",
       "      <td>70.0</td>\n",
       "      <td>80.0</td>\n",
       "      <td>90.0</td>\n",
       "      <td>NaN</td>\n",
       "      <td>60.0</td>\n",
       "    </tr>\n",
       "    <tr>\n",
       "      <th>2</th>\n",
       "      <td>3</td>\n",
       "      <td>Shreya</td>\n",
       "      <td>80.0</td>\n",
       "      <td>90.0</td>\n",
       "      <td>NaN</td>\n",
       "      <td>60.0</td>\n",
       "      <td>70.0</td>\n",
       "    </tr>\n",
       "    <tr>\n",
       "      <th>3</th>\n",
       "      <td>4</td>\n",
       "      <td>Krisha</td>\n",
       "      <td>90.0</td>\n",
       "      <td>NaN</td>\n",
       "      <td>60.0</td>\n",
       "      <td>70.0</td>\n",
       "      <td>80.0</td>\n",
       "    </tr>\n",
       "    <tr>\n",
       "      <th>4</th>\n",
       "      <td>5</td>\n",
       "      <td>Pooja</td>\n",
       "      <td>NaN</td>\n",
       "      <td>60.0</td>\n",
       "      <td>70.0</td>\n",
       "      <td>80.0</td>\n",
       "      <td>90.0</td>\n",
       "    </tr>\n",
       "  </tbody>\n",
       "</table>\n",
       "</div>"
      ],
      "text/plain": [
       "   Roll_No    Name  Maths_marks  English_marks  Science_marks  History_marks   \n",
       "0        1    Amol         60.0           70.0           80.0           90.0  \\\n",
       "1        2   Dipak         70.0           80.0           90.0            NaN   \n",
       "2        3  Shreya         80.0           90.0            NaN           60.0   \n",
       "3        4  Krisha         90.0            NaN           60.0           70.0   \n",
       "4        5   Pooja          NaN           60.0           70.0           80.0   \n",
       "\n",
       "   Geography_marks  \n",
       "0              NaN  \n",
       "1             60.0  \n",
       "2             70.0  \n",
       "3             80.0  \n",
       "4             90.0  "
      ]
     },
     "execution_count": 139,
     "metadata": {},
     "output_type": "execute_result"
    }
   ],
   "source": [
    "df2"
   ]
  },
  {
   "cell_type": "code",
   "execution_count": 140,
   "id": "4d7843c9",
   "metadata": {},
   "outputs": [],
   "source": [
    "def fill(data, col):\n",
    "    for i in col:\n",
    "        median = data[i].median()\n",
    "        data[i] = data[i].fillna(median)\n",
    "    return data"
   ]
  },
  {
   "cell_type": "code",
   "execution_count": 141,
   "id": "eae72bd2",
   "metadata": {},
   "outputs": [],
   "source": [
    "columns = ['Maths_marks', 'English_marks', 'Science_marks', 'History_marks', 'Geography_marks']\n",
    "df2 = fill(df2, columns)"
   ]
  },
  {
   "cell_type": "code",
   "execution_count": 142,
   "id": "cffc922c",
   "metadata": {},
   "outputs": [
    {
     "data": {
      "text/html": [
       "<div>\n",
       "<style scoped>\n",
       "    .dataframe tbody tr th:only-of-type {\n",
       "        vertical-align: middle;\n",
       "    }\n",
       "\n",
       "    .dataframe tbody tr th {\n",
       "        vertical-align: top;\n",
       "    }\n",
       "\n",
       "    .dataframe thead th {\n",
       "        text-align: right;\n",
       "    }\n",
       "</style>\n",
       "<table border=\"1\" class=\"dataframe\">\n",
       "  <thead>\n",
       "    <tr style=\"text-align: right;\">\n",
       "      <th></th>\n",
       "      <th>Roll_No</th>\n",
       "      <th>Name</th>\n",
       "      <th>Maths_marks</th>\n",
       "      <th>English_marks</th>\n",
       "      <th>Science_marks</th>\n",
       "      <th>History_marks</th>\n",
       "      <th>Geography_marks</th>\n",
       "    </tr>\n",
       "  </thead>\n",
       "  <tbody>\n",
       "    <tr>\n",
       "      <th>0</th>\n",
       "      <td>1</td>\n",
       "      <td>Amol</td>\n",
       "      <td>60.0</td>\n",
       "      <td>70.0</td>\n",
       "      <td>80.0</td>\n",
       "      <td>90.0</td>\n",
       "      <td>75.0</td>\n",
       "    </tr>\n",
       "    <tr>\n",
       "      <th>1</th>\n",
       "      <td>2</td>\n",
       "      <td>Dipak</td>\n",
       "      <td>70.0</td>\n",
       "      <td>80.0</td>\n",
       "      <td>90.0</td>\n",
       "      <td>75.0</td>\n",
       "      <td>60.0</td>\n",
       "    </tr>\n",
       "    <tr>\n",
       "      <th>2</th>\n",
       "      <td>3</td>\n",
       "      <td>Shreya</td>\n",
       "      <td>80.0</td>\n",
       "      <td>90.0</td>\n",
       "      <td>75.0</td>\n",
       "      <td>60.0</td>\n",
       "      <td>70.0</td>\n",
       "    </tr>\n",
       "    <tr>\n",
       "      <th>3</th>\n",
       "      <td>4</td>\n",
       "      <td>Krisha</td>\n",
       "      <td>90.0</td>\n",
       "      <td>75.0</td>\n",
       "      <td>60.0</td>\n",
       "      <td>70.0</td>\n",
       "      <td>80.0</td>\n",
       "    </tr>\n",
       "    <tr>\n",
       "      <th>4</th>\n",
       "      <td>5</td>\n",
       "      <td>Pooja</td>\n",
       "      <td>75.0</td>\n",
       "      <td>60.0</td>\n",
       "      <td>70.0</td>\n",
       "      <td>80.0</td>\n",
       "      <td>90.0</td>\n",
       "    </tr>\n",
       "  </tbody>\n",
       "</table>\n",
       "</div>"
      ],
      "text/plain": [
       "   Roll_No    Name  Maths_marks  English_marks  Science_marks  History_marks   \n",
       "0        1    Amol         60.0           70.0           80.0           90.0  \\\n",
       "1        2   Dipak         70.0           80.0           90.0           75.0   \n",
       "2        3  Shreya         80.0           90.0           75.0           60.0   \n",
       "3        4  Krisha         90.0           75.0           60.0           70.0   \n",
       "4        5   Pooja         75.0           60.0           70.0           80.0   \n",
       "\n",
       "   Geography_marks  \n",
       "0             75.0  \n",
       "1             60.0  \n",
       "2             70.0  \n",
       "3             80.0  \n",
       "4             90.0  "
      ]
     },
     "execution_count": 142,
     "metadata": {},
     "output_type": "execute_result"
    }
   ],
   "source": [
    "df2"
   ]
  },
  {
   "cell_type": "code",
   "execution_count": 143,
   "id": "38e947ee",
   "metadata": {},
   "outputs": [],
   "source": [
    "### Filling with constant value"
   ]
  },
  {
   "cell_type": "code",
   "execution_count": 149,
   "id": "1d54d390",
   "metadata": {},
   "outputs": [],
   "source": [
    "df3 = pd.DataFrame(data, columns = ['Roll_No', 'Name', 'Maths_marks', 'English_marks', 'Science_marks',\n",
    "       'History_marks', 'Geography_marks'])"
   ]
  },
  {
   "cell_type": "code",
   "execution_count": 150,
   "id": "352be68b",
   "metadata": {},
   "outputs": [
    {
     "data": {
      "text/html": [
       "<div>\n",
       "<style scoped>\n",
       "    .dataframe tbody tr th:only-of-type {\n",
       "        vertical-align: middle;\n",
       "    }\n",
       "\n",
       "    .dataframe tbody tr th {\n",
       "        vertical-align: top;\n",
       "    }\n",
       "\n",
       "    .dataframe thead th {\n",
       "        text-align: right;\n",
       "    }\n",
       "</style>\n",
       "<table border=\"1\" class=\"dataframe\">\n",
       "  <thead>\n",
       "    <tr style=\"text-align: right;\">\n",
       "      <th></th>\n",
       "      <th>Roll_No</th>\n",
       "      <th>Name</th>\n",
       "      <th>Maths_marks</th>\n",
       "      <th>English_marks</th>\n",
       "      <th>Science_marks</th>\n",
       "      <th>History_marks</th>\n",
       "      <th>Geography_marks</th>\n",
       "    </tr>\n",
       "  </thead>\n",
       "  <tbody>\n",
       "    <tr>\n",
       "      <th>0</th>\n",
       "      <td>1</td>\n",
       "      <td>Amol</td>\n",
       "      <td>60.0</td>\n",
       "      <td>70.0</td>\n",
       "      <td>80.0</td>\n",
       "      <td>90.0</td>\n",
       "      <td>NaN</td>\n",
       "    </tr>\n",
       "    <tr>\n",
       "      <th>1</th>\n",
       "      <td>2</td>\n",
       "      <td>Dipak</td>\n",
       "      <td>70.0</td>\n",
       "      <td>80.0</td>\n",
       "      <td>90.0</td>\n",
       "      <td>NaN</td>\n",
       "      <td>60.0</td>\n",
       "    </tr>\n",
       "    <tr>\n",
       "      <th>2</th>\n",
       "      <td>3</td>\n",
       "      <td>Shreya</td>\n",
       "      <td>80.0</td>\n",
       "      <td>90.0</td>\n",
       "      <td>NaN</td>\n",
       "      <td>60.0</td>\n",
       "      <td>70.0</td>\n",
       "    </tr>\n",
       "    <tr>\n",
       "      <th>3</th>\n",
       "      <td>4</td>\n",
       "      <td>Krisha</td>\n",
       "      <td>90.0</td>\n",
       "      <td>NaN</td>\n",
       "      <td>60.0</td>\n",
       "      <td>70.0</td>\n",
       "      <td>80.0</td>\n",
       "    </tr>\n",
       "    <tr>\n",
       "      <th>4</th>\n",
       "      <td>5</td>\n",
       "      <td>Pooja</td>\n",
       "      <td>NaN</td>\n",
       "      <td>60.0</td>\n",
       "      <td>70.0</td>\n",
       "      <td>80.0</td>\n",
       "      <td>90.0</td>\n",
       "    </tr>\n",
       "  </tbody>\n",
       "</table>\n",
       "</div>"
      ],
      "text/plain": [
       "   Roll_No    Name  Maths_marks  English_marks  Science_marks  History_marks   \n",
       "0        1    Amol         60.0           70.0           80.0           90.0  \\\n",
       "1        2   Dipak         70.0           80.0           90.0            NaN   \n",
       "2        3  Shreya         80.0           90.0            NaN           60.0   \n",
       "3        4  Krisha         90.0            NaN           60.0           70.0   \n",
       "4        5   Pooja          NaN           60.0           70.0           80.0   \n",
       "\n",
       "   Geography_marks  \n",
       "0              NaN  \n",
       "1             60.0  \n",
       "2             70.0  \n",
       "3             80.0  \n",
       "4             90.0  "
      ]
     },
     "execution_count": 150,
     "metadata": {},
     "output_type": "execute_result"
    }
   ],
   "source": [
    "df3"
   ]
  },
  {
   "cell_type": "code",
   "execution_count": 153,
   "id": "a75e3599",
   "metadata": {},
   "outputs": [],
   "source": [
    "df3['Maths_marks'].fillna(70, inplace=True)"
   ]
  },
  {
   "cell_type": "code",
   "execution_count": 154,
   "id": "d3ef76a4",
   "metadata": {},
   "outputs": [
    {
     "data": {
      "text/html": [
       "<div>\n",
       "<style scoped>\n",
       "    .dataframe tbody tr th:only-of-type {\n",
       "        vertical-align: middle;\n",
       "    }\n",
       "\n",
       "    .dataframe tbody tr th {\n",
       "        vertical-align: top;\n",
       "    }\n",
       "\n",
       "    .dataframe thead th {\n",
       "        text-align: right;\n",
       "    }\n",
       "</style>\n",
       "<table border=\"1\" class=\"dataframe\">\n",
       "  <thead>\n",
       "    <tr style=\"text-align: right;\">\n",
       "      <th></th>\n",
       "      <th>Roll_No</th>\n",
       "      <th>Name</th>\n",
       "      <th>Maths_marks</th>\n",
       "      <th>English_marks</th>\n",
       "      <th>Science_marks</th>\n",
       "      <th>History_marks</th>\n",
       "      <th>Geography_marks</th>\n",
       "    </tr>\n",
       "  </thead>\n",
       "  <tbody>\n",
       "    <tr>\n",
       "      <th>0</th>\n",
       "      <td>1</td>\n",
       "      <td>Amol</td>\n",
       "      <td>60.0</td>\n",
       "      <td>70.0</td>\n",
       "      <td>80.0</td>\n",
       "      <td>90.0</td>\n",
       "      <td>NaN</td>\n",
       "    </tr>\n",
       "    <tr>\n",
       "      <th>1</th>\n",
       "      <td>2</td>\n",
       "      <td>Dipak</td>\n",
       "      <td>70.0</td>\n",
       "      <td>80.0</td>\n",
       "      <td>90.0</td>\n",
       "      <td>NaN</td>\n",
       "      <td>60.0</td>\n",
       "    </tr>\n",
       "    <tr>\n",
       "      <th>2</th>\n",
       "      <td>3</td>\n",
       "      <td>Shreya</td>\n",
       "      <td>80.0</td>\n",
       "      <td>90.0</td>\n",
       "      <td>NaN</td>\n",
       "      <td>60.0</td>\n",
       "      <td>70.0</td>\n",
       "    </tr>\n",
       "    <tr>\n",
       "      <th>3</th>\n",
       "      <td>4</td>\n",
       "      <td>Krisha</td>\n",
       "      <td>90.0</td>\n",
       "      <td>NaN</td>\n",
       "      <td>60.0</td>\n",
       "      <td>70.0</td>\n",
       "      <td>80.0</td>\n",
       "    </tr>\n",
       "    <tr>\n",
       "      <th>4</th>\n",
       "      <td>5</td>\n",
       "      <td>Pooja</td>\n",
       "      <td>70.0</td>\n",
       "      <td>60.0</td>\n",
       "      <td>70.0</td>\n",
       "      <td>80.0</td>\n",
       "      <td>90.0</td>\n",
       "    </tr>\n",
       "  </tbody>\n",
       "</table>\n",
       "</div>"
      ],
      "text/plain": [
       "   Roll_No    Name  Maths_marks  English_marks  Science_marks  History_marks   \n",
       "0        1    Amol         60.0           70.0           80.0           90.0  \\\n",
       "1        2   Dipak         70.0           80.0           90.0            NaN   \n",
       "2        3  Shreya         80.0           90.0            NaN           60.0   \n",
       "3        4  Krisha         90.0            NaN           60.0           70.0   \n",
       "4        5   Pooja         70.0           60.0           70.0           80.0   \n",
       "\n",
       "   Geography_marks  \n",
       "0              NaN  \n",
       "1             60.0  \n",
       "2             70.0  \n",
       "3             80.0  \n",
       "4             90.0  "
      ]
     },
     "execution_count": 154,
     "metadata": {},
     "output_type": "execute_result"
    }
   ],
   "source": [
    "df3"
   ]
  },
  {
   "cell_type": "code",
   "execution_count": 155,
   "id": "a241f843",
   "metadata": {},
   "outputs": [],
   "source": [
    "df3['Science_marks'].fillna(70, inplace=True)"
   ]
  },
  {
   "cell_type": "code",
   "execution_count": 156,
   "id": "3b7ea951",
   "metadata": {},
   "outputs": [
    {
     "data": {
      "text/html": [
       "<div>\n",
       "<style scoped>\n",
       "    .dataframe tbody tr th:only-of-type {\n",
       "        vertical-align: middle;\n",
       "    }\n",
       "\n",
       "    .dataframe tbody tr th {\n",
       "        vertical-align: top;\n",
       "    }\n",
       "\n",
       "    .dataframe thead th {\n",
       "        text-align: right;\n",
       "    }\n",
       "</style>\n",
       "<table border=\"1\" class=\"dataframe\">\n",
       "  <thead>\n",
       "    <tr style=\"text-align: right;\">\n",
       "      <th></th>\n",
       "      <th>Roll_No</th>\n",
       "      <th>Name</th>\n",
       "      <th>Maths_marks</th>\n",
       "      <th>English_marks</th>\n",
       "      <th>Science_marks</th>\n",
       "      <th>History_marks</th>\n",
       "      <th>Geography_marks</th>\n",
       "    </tr>\n",
       "  </thead>\n",
       "  <tbody>\n",
       "    <tr>\n",
       "      <th>0</th>\n",
       "      <td>1</td>\n",
       "      <td>Amol</td>\n",
       "      <td>60.0</td>\n",
       "      <td>70.0</td>\n",
       "      <td>80.0</td>\n",
       "      <td>90.0</td>\n",
       "      <td>NaN</td>\n",
       "    </tr>\n",
       "    <tr>\n",
       "      <th>1</th>\n",
       "      <td>2</td>\n",
       "      <td>Dipak</td>\n",
       "      <td>70.0</td>\n",
       "      <td>80.0</td>\n",
       "      <td>90.0</td>\n",
       "      <td>NaN</td>\n",
       "      <td>60.0</td>\n",
       "    </tr>\n",
       "    <tr>\n",
       "      <th>2</th>\n",
       "      <td>3</td>\n",
       "      <td>Shreya</td>\n",
       "      <td>80.0</td>\n",
       "      <td>90.0</td>\n",
       "      <td>70.0</td>\n",
       "      <td>60.0</td>\n",
       "      <td>70.0</td>\n",
       "    </tr>\n",
       "    <tr>\n",
       "      <th>3</th>\n",
       "      <td>4</td>\n",
       "      <td>Krisha</td>\n",
       "      <td>90.0</td>\n",
       "      <td>NaN</td>\n",
       "      <td>60.0</td>\n",
       "      <td>70.0</td>\n",
       "      <td>80.0</td>\n",
       "    </tr>\n",
       "    <tr>\n",
       "      <th>4</th>\n",
       "      <td>5</td>\n",
       "      <td>Pooja</td>\n",
       "      <td>70.0</td>\n",
       "      <td>60.0</td>\n",
       "      <td>70.0</td>\n",
       "      <td>80.0</td>\n",
       "      <td>90.0</td>\n",
       "    </tr>\n",
       "  </tbody>\n",
       "</table>\n",
       "</div>"
      ],
      "text/plain": [
       "   Roll_No    Name  Maths_marks  English_marks  Science_marks  History_marks   \n",
       "0        1    Amol         60.0           70.0           80.0           90.0  \\\n",
       "1        2   Dipak         70.0           80.0           90.0            NaN   \n",
       "2        3  Shreya         80.0           90.0           70.0           60.0   \n",
       "3        4  Krisha         90.0            NaN           60.0           70.0   \n",
       "4        5   Pooja         70.0           60.0           70.0           80.0   \n",
       "\n",
       "   Geography_marks  \n",
       "0              NaN  \n",
       "1             60.0  \n",
       "2             70.0  \n",
       "3             80.0  \n",
       "4             90.0  "
      ]
     },
     "execution_count": 156,
     "metadata": {},
     "output_type": "execute_result"
    }
   ],
   "source": [
    "df3"
   ]
  },
  {
   "cell_type": "code",
   "execution_count": 157,
   "id": "a6b01e5b",
   "metadata": {},
   "outputs": [],
   "source": [
    "### Outliers"
   ]
  },
  {
   "cell_type": "code",
   "execution_count": 158,
   "id": "aafa9807",
   "metadata": {},
   "outputs": [],
   "source": [
    "from sklearn.datasets import load_iris"
   ]
  },
  {
   "cell_type": "code",
   "execution_count": 159,
   "id": "287dd564",
   "metadata": {},
   "outputs": [],
   "source": [
    "data = load_iris()"
   ]
  },
  {
   "cell_type": "code",
   "execution_count": 168,
   "id": "49756980",
   "metadata": {},
   "outputs": [],
   "source": [
    "X = pd.DataFrame(data['data'], columns=data['feature_names'])\n",
    "y = pd.DataFrame(data['target'], columns=['target'])"
   ]
  },
  {
   "cell_type": "code",
   "execution_count": 170,
   "id": "eb26cc4b",
   "metadata": {},
   "outputs": [
    {
     "data": {
      "text/html": [
       "<div>\n",
       "<style scoped>\n",
       "    .dataframe tbody tr th:only-of-type {\n",
       "        vertical-align: middle;\n",
       "    }\n",
       "\n",
       "    .dataframe tbody tr th {\n",
       "        vertical-align: top;\n",
       "    }\n",
       "\n",
       "    .dataframe thead th {\n",
       "        text-align: right;\n",
       "    }\n",
       "</style>\n",
       "<table border=\"1\" class=\"dataframe\">\n",
       "  <thead>\n",
       "    <tr style=\"text-align: right;\">\n",
       "      <th></th>\n",
       "      <th>sepal length (cm)</th>\n",
       "      <th>sepal width (cm)</th>\n",
       "      <th>petal length (cm)</th>\n",
       "      <th>petal width (cm)</th>\n",
       "    </tr>\n",
       "  </thead>\n",
       "  <tbody>\n",
       "    <tr>\n",
       "      <th>0</th>\n",
       "      <td>5.1</td>\n",
       "      <td>3.5</td>\n",
       "      <td>1.4</td>\n",
       "      <td>0.2</td>\n",
       "    </tr>\n",
       "    <tr>\n",
       "      <th>1</th>\n",
       "      <td>4.9</td>\n",
       "      <td>3.0</td>\n",
       "      <td>1.4</td>\n",
       "      <td>0.2</td>\n",
       "    </tr>\n",
       "    <tr>\n",
       "      <th>2</th>\n",
       "      <td>4.7</td>\n",
       "      <td>3.2</td>\n",
       "      <td>1.3</td>\n",
       "      <td>0.2</td>\n",
       "    </tr>\n",
       "    <tr>\n",
       "      <th>3</th>\n",
       "      <td>4.6</td>\n",
       "      <td>3.1</td>\n",
       "      <td>1.5</td>\n",
       "      <td>0.2</td>\n",
       "    </tr>\n",
       "    <tr>\n",
       "      <th>4</th>\n",
       "      <td>5.0</td>\n",
       "      <td>3.6</td>\n",
       "      <td>1.4</td>\n",
       "      <td>0.2</td>\n",
       "    </tr>\n",
       "  </tbody>\n",
       "</table>\n",
       "</div>"
      ],
      "text/plain": [
       "   sepal length (cm)  sepal width (cm)  petal length (cm)  petal width (cm)\n",
       "0                5.1               3.5                1.4               0.2\n",
       "1                4.9               3.0                1.4               0.2\n",
       "2                4.7               3.2                1.3               0.2\n",
       "3                4.6               3.1                1.5               0.2\n",
       "4                5.0               3.6                1.4               0.2"
      ]
     },
     "execution_count": 170,
     "metadata": {},
     "output_type": "execute_result"
    }
   ],
   "source": [
    "X.head(5)"
   ]
  },
  {
   "cell_type": "code",
   "execution_count": 179,
   "id": "3ce3cbf3",
   "metadata": {},
   "outputs": [],
   "source": [
    "import seaborn as sns\n",
    "import matplotlib.pyplot as plt"
   ]
  },
  {
   "cell_type": "code",
   "execution_count": 199,
   "id": "6e1b9c97",
   "metadata": {},
   "outputs": [],
   "source": [
    "def plot(data):\n",
    "    col = data.columns\n",
    "    plt.figure(figsize=(10, 10))\n",
    "    for i in range(len(col)):\n",
    "        plt.subplot(2, 2, i+1)\n",
    "        sns.boxplot(data[col[i]])\n",
    "        plt.xlabel(col[i])"
   ]
  },
  {
   "cell_type": "code",
   "execution_count": 210,
   "id": "185123bf",
   "metadata": {},
   "outputs": [
    {
     "data": {
      "image/png": "[encoded data removed]",
      "text/plain": [
       "<Figure size 1000x1000 with 4 Axes>"
      ]
     },
     "metadata": {},
     "output_type": "display_data"
    }
   ],
   "source": [
    "plot(X)"
   ]
  },
  {
   "cell_type": "code",
   "execution_count": 208,
   "id": "3f80dd2c",
   "metadata": {},
   "outputs": [
    {
     "data": {
      "text/plain": [
       "<Axes: >"
      ]
     },
     "execution_count": 208,
     "metadata": {},
     "output_type": "execute_result"
    },
    {
     "data": {
      "image/png": "[encoded data removed]",
      "text/plain": [
       "<Figure size 640x480 with 1 Axes>"
      ]
     },
     "metadata": {},
     "output_type": "display_data"
    }
   ],
   "source": [
    "sns.boxplot(X['sepal width (cm)'])"
   ]
  },
  {
   "cell_type": "code",
   "execution_count": 211,
   "id": "8de7608d",
   "metadata": {},
   "outputs": [],
   "source": [
    "q1 = np.quantile(X['sepal width (cm)'], 0.25)\n",
    "q3 = np.quantile(X['sepal width (cm)'], 0.75)"
   ]
  },
  {
   "cell_type": "code",
   "execution_count": 217,
   "id": "df598894",
   "metadata": {},
   "outputs": [],
   "source": [
    "IQR = q3-q1\n",
    "mini = q1-1.5*IQR\n",
    "maxi = q3+1.5*IQR"
   ]
  },
  {
   "cell_type": "code",
   "execution_count": 218,
   "id": "63ef838d",
   "metadata": {
    "scrolled": true
   },
   "outputs": [
    {
     "data": {
      "text/plain": [
       "(2.05, 4.05)"
      ]
     },
     "execution_count": 218,
     "metadata": {},
     "output_type": "execute_result"
    }
   ],
   "source": [
    "mini, maxi"
   ]
  },
  {
   "cell_type": "code",
   "execution_count": 231,
   "id": "b7073024",
   "metadata": {},
   "outputs": [],
   "source": [
    "index = []"
   ]
  },
  {
   "cell_type": "code",
   "execution_count": 235,
   "id": "566067ad",
   "metadata": {},
   "outputs": [],
   "source": [
    "for i in list(X[(X['sepal width (cm)']<mini)].index):\n",
    "    index.append(i)\n",
    "for i in list(X[X['sepal width (cm)']>maxi].index):\n",
    "    index.append(i) "
   ]
  },
  {
   "cell_type": "code",
   "execution_count": 239,
   "id": "5b02f79d",
   "metadata": {},
   "outputs": [
    {
     "data": {
      "text/plain": [
       "[60, 15, 32, 33]"
      ]
     },
     "execution_count": 239,
     "metadata": {},
     "output_type": "execute_result"
    }
   ],
   "source": [
    "index"
   ]
  },
  {
   "cell_type": "code",
   "execution_count": 238,
   "id": "f50ec999",
   "metadata": {},
   "outputs": [
    {
     "data": {
      "text/html": [
       "<div>\n",
       "<style scoped>\n",
       "    .dataframe tbody tr th:only-of-type {\n",
       "        vertical-align: middle;\n",
       "    }\n",
       "\n",
       "    .dataframe tbody tr th {\n",
       "        vertical-align: top;\n",
       "    }\n",
       "\n",
       "    .dataframe thead th {\n",
       "        text-align: right;\n",
       "    }\n",
       "</style>\n",
       "<table border=\"1\" class=\"dataframe\">\n",
       "  <thead>\n",
       "    <tr style=\"text-align: right;\">\n",
       "      <th></th>\n",
       "      <th>index</th>\n",
       "      <th>sepal length (cm)</th>\n",
       "      <th>sepal width (cm)</th>\n",
       "      <th>petal length (cm)</th>\n",
       "      <th>petal width (cm)</th>\n",
       "    </tr>\n",
       "  </thead>\n",
       "  <tbody>\n",
       "    <tr>\n",
       "      <th>0</th>\n",
       "      <td>0</td>\n",
       "      <td>5.1</td>\n",
       "      <td>3.5</td>\n",
       "      <td>1.4</td>\n",
       "      <td>0.2</td>\n",
       "    </tr>\n",
       "    <tr>\n",
       "      <th>1</th>\n",
       "      <td>1</td>\n",
       "      <td>4.9</td>\n",
       "      <td>3.0</td>\n",
       "      <td>1.4</td>\n",
       "      <td>0.2</td>\n",
       "    </tr>\n",
       "    <tr>\n",
       "      <th>2</th>\n",
       "      <td>2</td>\n",
       "      <td>4.7</td>\n",
       "      <td>3.2</td>\n",
       "      <td>1.3</td>\n",
       "      <td>0.2</td>\n",
       "    </tr>\n",
       "    <tr>\n",
       "      <th>3</th>\n",
       "      <td>3</td>\n",
       "      <td>4.6</td>\n",
       "      <td>3.1</td>\n",
       "      <td>1.5</td>\n",
       "      <td>0.2</td>\n",
       "    </tr>\n",
       "    <tr>\n",
       "      <th>4</th>\n",
       "      <td>4</td>\n",
       "      <td>5.0</td>\n",
       "      <td>3.6</td>\n",
       "      <td>1.4</td>\n",
       "      <td>0.2</td>\n",
       "    </tr>\n",
       "    <tr>\n",
       "      <th>...</th>\n",
       "      <td>...</td>\n",
       "      <td>...</td>\n",
       "      <td>...</td>\n",
       "      <td>...</td>\n",
       "      <td>...</td>\n",
       "    </tr>\n",
       "    <tr>\n",
       "      <th>141</th>\n",
       "      <td>145</td>\n",
       "      <td>6.7</td>\n",
       "      <td>3.0</td>\n",
       "      <td>5.2</td>\n",
       "      <td>2.3</td>\n",
       "    </tr>\n",
       "    <tr>\n",
       "      <th>142</th>\n",
       "      <td>146</td>\n",
       "      <td>6.3</td>\n",
       "      <td>2.5</td>\n",
       "      <td>5.0</td>\n",
       "      <td>1.9</td>\n",
       "    </tr>\n",
       "    <tr>\n",
       "      <th>143</th>\n",
       "      <td>147</td>\n",
       "      <td>6.5</td>\n",
       "      <td>3.0</td>\n",
       "      <td>5.2</td>\n",
       "      <td>2.0</td>\n",
       "    </tr>\n",
       "    <tr>\n",
       "      <th>144</th>\n",
       "      <td>148</td>\n",
       "      <td>6.2</td>\n",
       "      <td>3.4</td>\n",
       "      <td>5.4</td>\n",
       "      <td>2.3</td>\n",
       "    </tr>\n",
       "    <tr>\n",
       "      <th>145</th>\n",
       "      <td>149</td>\n",
       "      <td>5.9</td>\n",
       "      <td>3.0</td>\n",
       "      <td>5.1</td>\n",
       "      <td>1.8</td>\n",
       "    </tr>\n",
       "  </tbody>\n",
       "</table>\n",
       "<p>146 rows × 5 columns</p>\n",
       "</div>"
      ],
      "text/plain": [
       "     index  sepal length (cm)  sepal width (cm)  petal length (cm)   \n",
       "0        0                5.1               3.5                1.4  \\\n",
       "1        1                4.9               3.0                1.4   \n",
       "2        2                4.7               3.2                1.3   \n",
       "3        3                4.6               3.1                1.5   \n",
       "4        4                5.0               3.6                1.4   \n",
       "..     ...                ...               ...                ...   \n",
       "141    145                6.7               3.0                5.2   \n",
       "142    146                6.3               2.5                5.0   \n",
       "143    147                6.5               3.0                5.2   \n",
       "144    148                6.2               3.4                5.4   \n",
       "145    149                5.9               3.0                5.1   \n",
       "\n",
       "     petal width (cm)  \n",
       "0                 0.2  \n",
       "1                 0.2  \n",
       "2                 0.2  \n",
       "3                 0.2  \n",
       "4                 0.2  \n",
       "..                ...  \n",
       "141               2.3  \n",
       "142               1.9  \n",
       "143               2.0  \n",
       "144               2.3  \n",
       "145               1.8  \n",
       "\n",
       "[146 rows x 5 columns]"
      ]
     },
     "execution_count": 238,
     "metadata": {},
     "output_type": "execute_result"
    }
   ],
   "source": [
    "X.drop(index=index).reset_index()"
   ]
  },
  {
   "cell_type": "code",
   "execution_count": 240,
   "id": "480f29bc",
   "metadata": {},
   "outputs": [],
   "source": [
    "# Normalization Min Max Scaling\n",
    "def min_max(data, columns):\n",
    "    for i in columns:\n",
    "        maxi = data[i].max()\n",
    "        mini = data[i].min()\n",
    "        def calculate(x):\n",
    "            return ((x-mini)/(maxi-mini))\n",
    "        data[i] = data[i].apply(calculate)\n",
    "    return data"
   ]
  },
  {
   "cell_type": "code",
   "execution_count": null,
   "id": "edb6f5a2",
   "metadata": {},
   "outputs": [],
   "source": [
    "X = min_max(X, ['sepal width (cm)'])"
   ]
  }
 ],
 "metadata": {
  "kernelspec": {
   "display_name": "Python 3 (ipykernel)",
   "language": "python",
   "name": "python3"
  },
  "language_info": {
   "codemirror_mode": {
    "name": "ipython",
    "version": 3
   },
   "file_extension": ".py",
   "mimetype": "text/x-python",
   "name": "python",
   "nbconvert_exporter": "python",
   "pygments_lexer": "ipython3",
   "version": "3.10.6"
  }
 },
 "nbformat": 4,
 "nbformat_minor": 5
}
