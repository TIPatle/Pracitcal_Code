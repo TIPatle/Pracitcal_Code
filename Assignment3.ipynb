{
 "cells": [
  {
   "cell_type": "code",
   "execution_count": 3,
   "id": "a924022a",
   "metadata": {},
   "outputs": [],
   "source": [
    "import numpy as np\n",
    "import pandas as pd"
   ]
  },
  {
   "cell_type": "code",
   "execution_count": 4,
   "id": "a2b59bf7",
   "metadata": {},
   "outputs": [],
   "source": [
    "data = [\n",
    "    [0, 0, 0, 0],\n",
    "    [0, 0, 0, 1],\n",
    "    [0, 0, 1, 0],\n",
    "    [0, 0, 1, 1],\n",
    "    [0, 1, 0, 0],\n",
    "    [0, 1, 0, 1],\n",
    "    [0, 1, 1, 0],\n",
    "    [0, 1, 1, 1],\n",
    "    [1, 0, 0, 0],\n",
    "    [1, 0, 0, 1]\n",
    "]\n",
    "X = pd.DataFrame(data)\n",
    "y = pd.Series([0, 1, 0, 1, 0, 1, 0, 1, 0, 1])\n",
    "X[X.shape[1]] = np.ones(X.shape[0])"
   ]
  },
  {
   "cell_type": "code",
   "execution_count": 28,
   "id": "b02559d4",
   "metadata": {},
   "outputs": [],
   "source": [
    "class Perceptron:\n",
    "    def __init__(self, lr=0.01):\n",
    "        self.lr = lr\n",
    "    def stepfn(self, X):\n",
    "        return (X>=0).astype(int)\n",
    "    def predict(self, X):\n",
    "        return self.stepfn(np.dot(X, self.weights))\n",
    "    def fit(self, X, y, epochs=100):\n",
    "        self.weights = np.zeros(X.shape[1])\n",
    "        for _ in range(100):\n",
    "            for i in range(X.shape[0]):\n",
    "                y_hat = self.predict(X.iloc[i, :])\n",
    "                error = (y[i]-y_hat)\n",
    "                self.weights += self.lr*error*X.iloc[i, :]"
   ]
  },
  {
   "cell_type": "code",
   "execution_count": 31,
   "id": "ad63dea0",
   "metadata": {},
   "outputs": [],
   "source": [
    "model = Perceptron(0.1)"
   ]
  },
  {
   "cell_type": "code",
   "execution_count": 32,
   "id": "0531aa72",
   "metadata": {},
   "outputs": [],
   "source": [
    "model.fit(X, y)"
   ]
  },
  {
   "cell_type": "code",
   "execution_count": 33,
   "id": "ae9efb1a",
   "metadata": {},
   "outputs": [
    {
     "data": {
      "text/plain": [
       "array([0, 1, 0, 1, 0, 1, 0, 1, 0, 1])"
      ]
     },
     "execution_count": 33,
     "metadata": {},
     "output_type": "execute_result"
    }
   ],
   "source": [
    "model.predict(X)"
   ]
  }
 ],
 "metadata": {
  "kernelspec": {
   "display_name": "Python 3 (ipykernel)",
   "language": "python",
   "name": "python3"
  },
  "language_info": {
   "codemirror_mode": {
    "name": "ipython",
    "version": 3
   },
   "file_extension": ".py",
   "mimetype": "text/x-python",
   "name": "python",
   "nbconvert_exporter": "python",
   "pygments_lexer": "ipython3",
   "version": "3.10.6"
  }
 },
 "nbformat": 4,
 "nbformat_minor": 5
}
