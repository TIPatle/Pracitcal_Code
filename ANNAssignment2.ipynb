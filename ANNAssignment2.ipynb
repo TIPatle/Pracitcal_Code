{
 "cells": [
  {
   "cell_type": "code",
   "execution_count": 1,
   "id": "231f8dab",
   "metadata": {},
   "outputs": [],
   "source": [
    "import numpy as np\n",
    "import pandas as pd"
   ]
  },
  {
   "cell_type": "code",
   "execution_count": 2,
   "id": "8e7d3f4d",
   "metadata": {},
   "outputs": [],
   "source": [
    "# And Not\n",
    "columns = ['A', 'B', 'notB', 'A & (notB)']\n",
    "truth_table = [\n",
    "    [0, 0, 1, 0],\n",
    "    [0, 1, 0, 0],\n",
    "    [1, 0, 1, 1],\n",
    "    [1, 1, 0, 0]\n",
    "]\n",
    "data = pd.DataFrame(truth_table, columns=columns)"
   ]
  },
  {
   "cell_type": "code",
   "execution_count": 3,
   "id": "2c970ff3",
   "metadata": {},
   "outputs": [
    {
     "data": {
      "text/html": [
       "<div>\n",
       "<style scoped>\n",
       "    .dataframe tbody tr th:only-of-type {\n",
       "        vertical-align: middle;\n",
       "    }\n",
       "\n",
       "    .dataframe tbody tr th {\n",
       "        vertical-align: top;\n",
       "    }\n",
       "\n",
       "    .dataframe thead th {\n",
       "        text-align: right;\n",
       "    }\n",
       "</style>\n",
       "<table border=\"1\" class=\"dataframe\">\n",
       "  <thead>\n",
       "    <tr style=\"text-align: right;\">\n",
       "      <th></th>\n",
       "      <th>A</th>\n",
       "      <th>B</th>\n",
       "      <th>notB</th>\n",
       "      <th>A &amp; (notB)</th>\n",
       "    </tr>\n",
       "  </thead>\n",
       "  <tbody>\n",
       "    <tr>\n",
       "      <th>0</th>\n",
       "      <td>0</td>\n",
       "      <td>0</td>\n",
       "      <td>1</td>\n",
       "      <td>0</td>\n",
       "    </tr>\n",
       "    <tr>\n",
       "      <th>1</th>\n",
       "      <td>0</td>\n",
       "      <td>1</td>\n",
       "      <td>0</td>\n",
       "      <td>0</td>\n",
       "    </tr>\n",
       "    <tr>\n",
       "      <th>2</th>\n",
       "      <td>1</td>\n",
       "      <td>0</td>\n",
       "      <td>1</td>\n",
       "      <td>1</td>\n",
       "    </tr>\n",
       "    <tr>\n",
       "      <th>3</th>\n",
       "      <td>1</td>\n",
       "      <td>1</td>\n",
       "      <td>0</td>\n",
       "      <td>0</td>\n",
       "    </tr>\n",
       "  </tbody>\n",
       "</table>\n",
       "</div>"
      ],
      "text/plain": [
       "   A  B  notB  A & (notB)\n",
       "0  0  0     1           0\n",
       "1  0  1     0           0\n",
       "2  1  0     1           1\n",
       "3  1  1     0           0"
      ]
     },
     "execution_count": 3,
     "metadata": {},
     "output_type": "execute_result"
    }
   ],
   "source": [
    "data"
   ]
  },
  {
   "cell_type": "code",
   "execution_count": 51,
   "id": "6d373266",
   "metadata": {},
   "outputs": [],
   "source": [
    "class McCulloh:\n",
    "    def __init__(self):\n",
    "        self.weights = np.array([1, 1])\n",
    "        self.threshold = 0\n",
    "    def stepfn(self, x):\n",
    "        return int(x>=self.threshold)\n",
    "    def fit(self, X, y):\n",
    "        self.threshold=1e9\n",
    "        for i in range(X.shape[0]):\n",
    "            weightedSum = np.dot(self.weights, X.iloc[i, :])\n",
    "            if(y[i]==1):\n",
    "                self.threshold = min(self.threshold, weightedSum)\n",
    "    def predict(self, X):\n",
    "        X = np.dot(X, self.weights)\n",
    "        return np.array([self.stepfn(x) for x in X ])"
   ]
  },
  {
   "cell_type": "code",
   "execution_count": 52,
   "id": "856aa53e",
   "metadata": {},
   "outputs": [],
   "source": [
    "model = McCulloh()"
   ]
  },
  {
   "cell_type": "code",
   "execution_count": 53,
   "id": "427c1391",
   "metadata": {},
   "outputs": [],
   "source": [
    "model.fit(data[['A', 'notB']], data['A & (notB)'])"
   ]
  },
  {
   "cell_type": "code",
   "execution_count": 54,
   "id": "61687ed7",
   "metadata": {},
   "outputs": [
    {
     "data": {
      "text/plain": [
       "array([0, 0, 1, 0])"
      ]
     },
     "execution_count": 54,
     "metadata": {},
     "output_type": "execute_result"
    }
   ],
   "source": [
    "model.predict(data[['A', 'notB']])"
   ]
  },
  {
   "cell_type": "code",
   "execution_count": null,
   "id": "eaa7ab77",
   "metadata": {},
   "outputs": [],
   "source": []
  }
 ],
 "metadata": {
  "kernelspec": {
   "display_name": "Python 3 (ipykernel)",
   "language": "python",
   "name": "python3"
  },
  "language_info": {
   "codemirror_mode": {
    "name": "ipython",
    "version": 3
   },
   "file_extension": ".py",
   "mimetype": "text/x-python",
   "name": "python",
   "nbconvert_exporter": "python",
   "pygments_lexer": "ipython3",
   "version": "3.10.6"
  }
 },
 "nbformat": 4,
 "nbformat_minor": 5
}
